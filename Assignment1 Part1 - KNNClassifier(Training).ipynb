{
 "cells": [
  {
   "cell_type": "code",
   "execution_count": 3,
   "metadata": {},
   "outputs": [],
   "source": [
    "import random\n",
    "import numpy as np\n",
    "import matplotlib.pyplot as plt\n",
    "from random import shuffle\n",
    "import cPickle as pickle\n",
    "import KNearestNeighbor as KNN"
   ]
  },
  {
   "cell_type": "code",
   "execution_count": 27,
   "metadata": {},
   "outputs": [],
   "source": [
    "def load_CIFAR_train(filename):\n",
    "  \"\"\" load single batch of cifar \"\"\"\n",
    "  with open(filename, 'rb') as f:\n",
    "    datadict = pickle.load(f)\n",
    "    X = datadict['data']\n",
    "    Y = datadict['coarse_labels']\n",
    "    X = X.reshape(50000, 3, 32, 32).transpose(0,2,3,1).astype(\"float\")\n",
    "    X = np.array(X)\n",
    "    Y = np.array(Y)\n",
    "    return X, Y\n",
    "def load_CIFAR_test(filename):\n",
    "  \"\"\" load single batch of cifar \"\"\"\n",
    "  with open(filename, 'rb') as f:\n",
    "    datadict = pickle.load(f)\n",
    "    X = datadict['data']\n",
    "    Y = datadict['coarse_labels']\n",
    "    X = X.reshape(10000, 3, 32, 32).transpose(0,2,3,1).astype(\"float\")\n",
    "    X = np.array(X)\n",
    "    Y = np.array(Y)\n",
    "    return X, Y"
   ]
  },
  {
   "cell_type": "code",
   "execution_count": 6,
   "metadata": {},
   "outputs": [],
   "source": [
    "def sample_train(train_data, train_labels):\n",
    "    train_data = np.reshape(train_data, (train_data.shape[0], -1))\n",
    "    labels_indices = np.array([], dtype=int)\n",
    "    for i in range(0,20):\n",
    "        temp_indices = np.flatnonzero(train_labels == i)  \n",
    "        temp_indices = np.random.choice(temp_indices, 500, replace = False)\n",
    "        labels_indices = np.append(labels_indices,temp_indices)\n",
    "    \n",
    "\n",
    "    np.random.shuffle(labels_indices)\n",
    "    train_data = train_data[labels_indices,:]\n",
    "    train_labels = train_labels[labels_indices]\n",
    "    \n",
    "    return train_data, train_labels"
   ]
  },
  {
   "cell_type": "code",
   "execution_count": 7,
   "metadata": {},
   "outputs": [],
   "source": [
    "def crossfold(train_data,train_labels,i):\n",
    "    if i == 1:\n",
    "        validation_data = train_data[:3333]\n",
    "        new_train_data = np.concatenate((train_data[3334:6666], train_data[6667:]))\n",
    "        validation_labels = train_labels[:3333]\n",
    "        new_train_labels = np.concatenate((train_labels[3334:6666], train_labels[6667:]))\n",
    "    elif i == 2:\n",
    "        validation_data = train_data[3334:6666]\n",
    "        new_train_data = np.concatenate((train_data[:3333], train_data[6667:]))\n",
    "        validation_labels = train_labels[3334:6666]\n",
    "        new_train_labels = np.concatenate((train_labels[:3333], train_labels[6667:]))\n",
    "    else:\n",
    "        validation_data = train_data[6667:]\n",
    "        new_train_data = np.concatenate((train_data[:3333], train_data[3334:6666]))\n",
    "        validation_labels = train_labels[6667:]\n",
    "        new_train_labels = np.concatenate(( train_labels[:3333], train_labels[3334:6666]))\n",
    "    return validation_data,validation_labels, new_train_data,new_train_labels\n",
    "        "
   ]
  },
  {
   "cell_type": "code",
   "execution_count": 10,
   "metadata": {},
   "outputs": [
    {
     "name": "stdout",
     "output_type": "stream",
     "text": [
      "((10000, 3072), (10000,))\n",
      "Got 660 / 3333 correct => accuracy: 0.198020\n",
      "Got 601 / 3333 correct => accuracy: 0.180318\n",
      "Got 639 / 3333 correct => accuracy: 0.191719\n",
      "!!Average accuracy for k = 1 : 0.190019\n",
      "Got 654 / 3333 correct => accuracy: 0.196220\n",
      "Got 573 / 3333 correct => accuracy: 0.171917\n",
      "Got 610 / 3333 correct => accuracy: 0.183018\n",
      "!!Average accuracy for k = 3 : 0.183718\n",
      "Got 647 / 3333 correct => accuracy: 0.194119\n",
      "Got 632 / 3333 correct => accuracy: 0.189619\n",
      "Got 616 / 3333 correct => accuracy: 0.184818\n",
      "!!Average accuracy for k = 5 : 0.189519\n",
      "Got 663 / 3333 correct => accuracy: 0.198920\n",
      "Got 632 / 3333 correct => accuracy: 0.189619\n",
      "Got 620 / 3333 correct => accuracy: 0.186019\n",
      "!!Average accuracy for k = 7 : 0.191519\n",
      "Got 673 / 3333 correct => accuracy: 0.201920\n",
      "Got 631 / 3333 correct => accuracy: 0.189319\n",
      "Got 638 / 3333 correct => accuracy: 0.191419\n",
      "!!Average accuracy for k = 10 : 0.194219\n",
      "Got 656 / 3333 correct => accuracy: 0.196820\n",
      "Got 655 / 3333 correct => accuracy: 0.196520\n",
      "Got 650 / 3333 correct => accuracy: 0.195020\n",
      "!!Average accuracy for k = 15 : 0.196120\n",
      "Got 646 / 3333 correct => accuracy: 0.193819\n",
      "Got 646 / 3333 correct => accuracy: 0.193819\n",
      "Got 647 / 3333 correct => accuracy: 0.194119\n",
      "!!Average accuracy for k = 20 : 0.193919\n",
      "Got 630 / 3333 correct => accuracy: 0.189019\n",
      "Got 637 / 3333 correct => accuracy: 0.191119\n",
      "Got 647 / 3333 correct => accuracy: 0.194119\n",
      "!!Average accuracy for k = 25 : 0.191419\n",
      "Got 627 / 3333 correct => accuracy: 0.188119\n",
      "Got 616 / 3333 correct => accuracy: 0.184818\n",
      "Got 631 / 3333 correct => accuracy: 0.189319\n",
      "!!Average accuracy for k = 50 : 0.187419\n",
      "Got 634 / 3333 correct => accuracy: 0.190219\n",
      "Got 598 / 3333 correct => accuracy: 0.179418\n",
      "Got 636 / 3333 correct => accuracy: 0.190819\n",
      "!!Average accuracy for k = 75 : 0.186819\n",
      "Got 605 / 3333 correct => accuracy: 0.181518\n",
      "Got 593 / 3333 correct => accuracy: 0.177918\n",
      "Got 609 / 3333 correct => accuracy: 0.182718\n",
      "!!Average accuracy for k = 100 : 0.180718\n",
      "Got 587 / 3333 correct => accuracy: 0.176118\n",
      "Got 602 / 3333 correct => accuracy: 0.180618\n",
      "Got 591 / 3333 correct => accuracy: 0.177318\n",
      "!!Average accuracy for k = 150 : 0.178018\n"
     ]
    }
   ],
   "source": [
    "train_data, train_labels = load_CIFAR_train('train')\n",
    "train_data, train_labels = sample_train(train_data,train_labels)\n",
    "print (train_data.shape,train_labels.shape)\n",
    "#train_data, train_labels = shuffle(train_data, train_labels, random_state = 0)\n",
    "k = [1, 3, 5, 7, 10, 15,20, 25,50, 75,100,150]\n",
    "KNNclassifier = KNN.KNearestNeighbor()\n",
    "kaccuracy = []\n",
    "num_test = 3333\n",
    "\n",
    "for l in k:\n",
    "    crossval_accuracy = np.array([],dtype = float)\n",
    "    for i in range (1, 4):\n",
    "        val_data, val_labels, new_train_data,new_train_labels = crossfold(train_data,train_labels,i)\n",
    "    #    print (train_data.shape)\n",
    "       # print (train_data)\n",
    "        KNNclassifier.train(new_train_data,new_train_labels)\n",
    "        # Predict the labels of testing data\n",
    "        y_test_pred = KNNclassifier.predict(val_data,l,'L2')\n",
    "        # Compute and print the fraction of correctly predicted examples\n",
    "        num_correct = np.sum(y_test_pred == val_labels)\n",
    "        accuracy = float(num_correct) / num_test\n",
    "        crossval_accuracy = np.append(crossval_accuracy, accuracy)\n",
    "        print 'Got %d / %d correct => accuracy: %f' % (num_correct, num_test, accuracy)\n",
    "    mean_accuracy = np.mean(crossval_accuracy)\n",
    "    print '!!Average accuracy for k = %d : %f' % (l, mean_accuracy)\n",
    "    kaccuracy = np.append(kaccuracy,mean_accuracy)\n"
   ]
  },
  {
   "cell_type": "code",
   "execution_count": 15,
   "metadata": {},
   "outputs": [
    {
     "data": {
      "image/png": "[encoded data removed]",
      "text/plain": [
       "<Figure size 432x288 with 1 Axes>"
      ]
     },
     "metadata": {
      "needs_background": "light"
     },
     "output_type": "display_data"
    }
   ],
   "source": [
    "plt.plot(k,kaccuracy)\n",
    "plt.plot(k[5], np.amax(kaccuracy), 'r*')\n",
    "plt.xlabel(\"number of neighbors (k)\")\n",
    "plt.ylabel(\"cross-validation accuracy\")\n",
    "\n",
    "plt.show()"
   ]
  }
 ],
 "metadata": {
  "kernelspec": {
   "display_name": "Python 2",
   "language": "python",
   "name": "python2"
  },
  "language_info": {
   "codemirror_mode": {
    "name": "ipython",
    "version": 2
   },
   "file_extension": ".py",
   "mimetype": "text/x-python",
   "name": "python",
   "nbconvert_exporter": "python",
   "pygments_lexer": "ipython2",
   "version": "2.7.15"
  }
 },
 "nbformat": 4,
 "nbformat_minor": 2
}
