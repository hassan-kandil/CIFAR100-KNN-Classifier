{
 "cells": [
  {
   "cell_type": "code",
   "execution_count": 1,
   "metadata": {},
   "outputs": [],
   "source": [
    "import numpy as np\n",
    "import matplotlib.pyplot as plt\n",
    "from random import shuffle\n",
    "import cPickle as pickle\n",
    "import KNearestNeighbor as KNN"
   ]
  },
  {
   "cell_type": "code",
   "execution_count": 2,
   "metadata": {},
   "outputs": [],
   "source": [
    "def load_CIFAR_train(filename):\n",
    "  \"\"\" load single batch of cifar \"\"\"\n",
    "  with open(filename, 'rb') as f:\n",
    "    datadict = pickle.load(f)\n",
    "    X = datadict['data']\n",
    "    Y = datadict['coarse_labels']\n",
    "    X = X.reshape(50000, 3, 32, 32).transpose(0,2,3,1).astype(\"float\")\n",
    "    X = np.array(X)\n",
    "    Y = np.array(Y)\n",
    "    return X, Y\n",
    "def load_CIFAR_test(filename):\n",
    "  \"\"\" load single batch of cifar \"\"\"\n",
    "  with open(filename, 'rb') as f:\n",
    "    datadict = pickle.load(f)\n",
    "    X = datadict['data']\n",
    "    Y = datadict['coarse_labels']\n",
    "    X = X.reshape(10000, 3, 32, 32).transpose(0,2,3,1).astype(\"float\")\n",
    "    X = np.array(X)\n",
    "    Y = np.array(Y)\n",
    "    return X, Y"
   ]
  },
  {
   "cell_type": "code",
   "execution_count": 3,
   "metadata": {},
   "outputs": [],
   "source": [
    "def sample_train(train_data, train_labels):\n",
    "    train_data = np.reshape(train_data, (train_data.shape[0], -1))\n",
    "    labels_indices = np.array([], dtype=int)\n",
    "    for i in range(0,20):\n",
    "        temp_indices = np.flatnonzero(train_labels == i)  \n",
    "        temp_indices = np.random.choice(temp_indices, 500, replace = False)\n",
    "        labels_indices = np.append(labels_indices,temp_indices)\n",
    "    \n",
    "\n",
    "    np.random.shuffle(labels_indices)\n",
    "    train_data = train_data[labels_indices,:]\n",
    "    train_labels = train_labels[labels_indices]\n",
    "    \n",
    "    return train_data, train_labels"
   ]
  },
  {
   "cell_type": "code",
   "execution_count": 4,
   "metadata": {},
   "outputs": [
    {
     "name": "stdout",
     "output_type": "stream",
     "text": [
      "Got 2124 / 10000 correct => accuracy: 0.212400\n",
      "Testing accuracy for best chosen k = 15 : 0.212400\n"
     ]
    }
   ],
   "source": [
    "\n",
    "test_data, test_labels = load_CIFAR_test('test')\n",
    "train_data, train_labels = load_CIFAR_train('train')\n",
    "train_data, train_labels = sample_train(train_data,train_labels)\n",
    "# train_data, train_labels = sample_train(train_data,train_labels)\n",
    "k = 15\n",
    "KNNclassifier = KNN.KNearestNeighbor()\n",
    "# kaccuracy = []\n",
    "num_test = 10000\n",
    "train_data = np.reshape(train_data,(train_data.shape[0],-1))\n",
    "test_data = np.reshape(test_data,(test_data.shape[0],-1))\n",
    "\n",
    "#   crossval_accuracy = np.array([],dtype = float)\n",
    "KNNclassifier.train(train_data,train_labels)\n",
    "# Predict the labels of testing data\n",
    "y_test_pred = KNNclassifier.predict(test_data,k,'L2')\n",
    "# Compute and print the fraction of correctly predicted examples\n",
    "num_correct = np.sum(y_test_pred == test_labels)\n",
    "accuracy = float(num_correct) / num_test\n",
    "print 'Got %d / %d correct => accuracy: %f' % (num_correct, num_test, accuracy)\n",
    "# mean_accuracy = np.mean(crossval_accuracy)\n",
    "print 'Testing accuracy for best chosen k = %d : %f' % (15, accuracy)\n"
   ]
  },
  {
   "cell_type": "code",
   "execution_count": 13,
   "metadata": {},
   "outputs": [
    {
     "name": "stdout",
     "output_type": "stream",
     "text": [
      "Got 2030 / 10000 correct => accuracy: 0.203000\n",
      "ACCR for best chosen k = 15 : 0.203000\n",
      "0 0.298\n",
      "1 0.28600000000000003\n",
      "2 0.19000000000000003\n",
      "3 0.34600000000000003\n",
      "4 0.3\n",
      "5 0.084\n",
      "6 0.15600000000000003\n",
      "7 0.23600000000000002\n",
      "8 0.064\n",
      "9 0.15200000000000002\n",
      "10 0.68\n",
      "11 0.07400000000000001\n",
      "12 0.136\n",
      "13 0.318\n",
      "14 0.02\n",
      "15 0.08600000000000001\n",
      "16 0.096\n",
      "17 0.424\n",
      "18 0.01\n",
      "19 0.10400000000000001\n"
     ]
    }
   ],
   "source": [
    "test_data, test_labels = load_CIFAR_test('test')\n",
    "train_data, train_labels = load_CIFAR_train('train')\n",
    "train_data, train_labels = sample_train(train_data,train_labels)\n",
    "# train_data, train_labels = sample_train(train_data,train_labels)\n",
    "k = 15\n",
    "\n",
    "CCRn = np.array([],dtype = float)\n",
    "KNNclassifier = KNN.KNearestNeighbor()\n",
    "# kaccuracy = []\n",
    "num_test = 10000\n",
    "train_data = np.reshape(train_data,(train_data.shape[0],-1))\n",
    "test_data = np.reshape(test_data,(test_data.shape[0],-1))\n",
    "\n",
    "#   crossval_accuracy = np.array([],dtype = float)\n",
    "KNNclassifier.train(train_data,train_labels)\n",
    "# Predict the labels of testing data\n",
    "y_test_pred = KNNclassifier.predict(test_data,k,'L2')\n",
    "# Compute and print the fraction of correctly predicted examples\n",
    "num_correct = np.sum(y_test_pred == test_labels)\n",
    "accuracy = float(num_correct) / num_test\n",
    "print 'Got %d / %d correct => accuracy: %f' % (num_correct, num_test, accuracy)\n",
    "# mean_accuracy = np.mean(crossval_accuracy)\n",
    "print 'ACCR for best chosen k = %d : %f' % (15, accuracy)\n",
    "\n",
    "for i in range(20):\n",
    "\n",
    "    CCRn = np.append (CCRn,np.sum( np.logical_and(y_test_pred == test_labels,test_labels == i)/ float(np.sum(test_labels == i)) ))\n",
    "                      \n",
    "for s in range(CCRn.shape[0]):\n",
    "    print s,CCRn[s]\n"
   ]
  },
  {
   "cell_type": "code",
   "execution_count": 1,
   "metadata": {},
   "outputs": [
    {
     "ename": "NameError",
     "evalue": "name 'CCRn' is not defined",
     "output_type": "error",
     "traceback": [
      "\u001b[1;31m---------------------------------------------------------------------------\u001b[0m",
      "\u001b[1;31mNameError\u001b[0m                                 Traceback (most recent call last)",
      "\u001b[1;32m<ipython-input-1-69c83cb9dd0a>\u001b[0m in \u001b[0;36m<module>\u001b[1;34m()\u001b[0m\n\u001b[1;32m----> 1\u001b[1;33m \u001b[1;32mprint\u001b[0m \u001b[0mCCRn\u001b[0m\u001b[1;33m\u001b[0m\u001b[0m\n\u001b[0m",
      "\u001b[1;31mNameError\u001b[0m: name 'CCRn' is not defined"
     ]
    }
   ],
   "source": [
    "print CCRn"
   ]
  },
  {
   "cell_type": "code",
   "execution_count": null,
   "metadata": {},
   "outputs": [],
   "source": []
  }
 ],
 "metadata": {
  "kernelspec": {
   "display_name": "Python 2",
   "language": "python",
   "name": "python2"
  },
  "language_info": {
   "codemirror_mode": {
    "name": "ipython",
    "version": 2
   },
   "file_extension": ".py",
   "mimetype": "text/x-python",
   "name": "python",
   "nbconvert_exporter": "python",
   "pygments_lexer": "ipython2",
   "version": "2.7.15"
  }
 },
 "nbformat": 4,
 "nbformat_minor": 2
}
